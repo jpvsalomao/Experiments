{
 "cells": [
  {
   "cell_type": "code",
   "execution_count": 1,
   "id": "cd4aabcf",
   "metadata": {},
   "outputs": [],
   "source": [
    "%matplotlib inline\n",
    "\n",
    "from pathlib import Path\n",
    "import random\n",
    "\n",
    "import pandas as pd\n",
    "import numpy as np\n",
    "import statistics\n",
    "\n",
    "from scipy import stats\n",
    "import statsmodels.api as sm\n",
    "import statsmodels.formula.api as smf\n",
    "from statsmodels.stats import power\n",
    "\n",
    "import matplotlib.pylab as plt"
   ]
  },
  {
   "cell_type": "markdown",
   "id": "22a1d39d",
   "metadata": {},
   "source": [
    "### Exercise 1: Game Fun: Customer Acquisition through Digital Advertising\n",
    "\n",
    "New customer subscription brings a revenue of $37.5\n",
    "\n",
    "**Experiment:** Game Fun chose two different websites to run the experiment on. The websites have randomly assigned their web users to test and control groups. If the user qualified for a Game-Fun ad, then the ad server checked whether the user was assigned to the test or the control group. If test, a Game-Fun ad was displayed. otherwise, a irrelevant ad was displayed.\n",
    "\n",
    "**Concerns:** Game-Fun had to pay the content publisher for the irrelevant ads, as well. Some users who saw an irrelevant ad might have signed up if they been shown their gaming ad.\n",
    "\n",
    "- 70% test, 30% control group"
   ]
  },
  {
   "cell_type": "code",
   "execution_count": 228,
   "id": "c6908b90",
   "metadata": {
    "scrolled": true
   },
   "outputs": [
    {
     "data": {
      "text/html": [
       "<div>\n",
       "<style scoped>\n",
       "    .dataframe tbody tr th:only-of-type {\n",
       "        vertical-align: middle;\n",
       "    }\n",
       "\n",
       "    .dataframe tbody tr th {\n",
       "        vertical-align: top;\n",
       "    }\n",
       "\n",
       "    .dataframe thead th {\n",
       "        text-align: right;\n",
       "    }\n",
       "</style>\n",
       "<table border=\"1\" class=\"dataframe\">\n",
       "  <thead>\n",
       "    <tr style=\"text-align: right;\">\n",
       "      <th></th>\n",
       "      <th>id</th>\n",
       "      <th>test</th>\n",
       "      <th>purchase</th>\n",
       "      <th>site</th>\n",
       "      <th>impressions</th>\n",
       "      <th>income</th>\n",
       "      <th>gender</th>\n",
       "      <th>gamer</th>\n",
       "    </tr>\n",
       "  </thead>\n",
       "  <tbody>\n",
       "    <tr>\n",
       "      <th>0</th>\n",
       "      <td>1956</td>\n",
       "      <td>0</td>\n",
       "      <td>0</td>\n",
       "      <td>site1</td>\n",
       "      <td>0</td>\n",
       "      <td>100</td>\n",
       "      <td>1</td>\n",
       "      <td>0</td>\n",
       "    </tr>\n",
       "    <tr>\n",
       "      <th>1</th>\n",
       "      <td>45821</td>\n",
       "      <td>1</td>\n",
       "      <td>0</td>\n",
       "      <td>site1</td>\n",
       "      <td>20</td>\n",
       "      <td>70</td>\n",
       "      <td>1</td>\n",
       "      <td>0</td>\n",
       "    </tr>\n",
       "    <tr>\n",
       "      <th>2</th>\n",
       "      <td>59690</td>\n",
       "      <td>1</td>\n",
       "      <td>0</td>\n",
       "      <td>site1</td>\n",
       "      <td>22</td>\n",
       "      <td>100</td>\n",
       "      <td>1</td>\n",
       "      <td>0</td>\n",
       "    </tr>\n",
       "    <tr>\n",
       "      <th>3</th>\n",
       "      <td>18851</td>\n",
       "      <td>0</td>\n",
       "      <td>0</td>\n",
       "      <td>site1</td>\n",
       "      <td>13</td>\n",
       "      <td>90</td>\n",
       "      <td>1</td>\n",
       "      <td>0</td>\n",
       "    </tr>\n",
       "    <tr>\n",
       "      <th>4</th>\n",
       "      <td>60647</td>\n",
       "      <td>1</td>\n",
       "      <td>0</td>\n",
       "      <td>site1</td>\n",
       "      <td>12</td>\n",
       "      <td>60</td>\n",
       "      <td>1</td>\n",
       "      <td>0</td>\n",
       "    </tr>\n",
       "  </tbody>\n",
       "</table>\n",
       "</div>"
      ],
      "text/plain": [
       "      id  test  purchase   site  impressions  income  gender  gamer\n",
       "0   1956     0         0  site1            0     100       1      0\n",
       "1  45821     1         0  site1           20      70       1      0\n",
       "2  59690     1         0  site1           22     100       1      0\n",
       "3  18851     0         0  site1           13      90       1      0\n",
       "4  60647     1         0  site1           12      60       1      0"
      ]
     },
     "execution_count": 228,
     "metadata": {},
     "output_type": "execute_result"
    }
   ],
   "source": [
    "gamefun = pd.read_excel('/Users/joaopedro/Documents/MSBA/Classes/BAX 423 - Big Data Analytics/Assignments/01./AB Analysis.xlsx')\n",
    "gamefun.head()"
   ]
  },
  {
   "cell_type": "code",
   "execution_count": 16,
   "id": "833889c8",
   "metadata": {},
   "outputs": [
    {
     "name": "stdout",
     "output_type": "stream",
     "text": [
      "<class 'pandas.core.frame.DataFrame'>\n",
      "RangeIndex: 40048 entries, 0 to 40047\n",
      "Data columns (total 8 columns):\n",
      " #   Column       Non-Null Count  Dtype \n",
      "---  ------       --------------  ----- \n",
      " 0   id           40048 non-null  int64 \n",
      " 1   test         40048 non-null  int64 \n",
      " 2   purchase     40048 non-null  int64 \n",
      " 3   site         40048 non-null  object\n",
      " 4   impressions  40048 non-null  int64 \n",
      " 5   income       40048 non-null  int64 \n",
      " 6   gender       40048 non-null  int64 \n",
      " 7   gamer        40048 non-null  int64 \n",
      "dtypes: int64(7), object(1)\n",
      "memory usage: 2.4+ MB\n"
     ]
    }
   ],
   "source": [
    "gamefun.info()"
   ]
  },
  {
   "cell_type": "markdown",
   "id": "f7a54473",
   "metadata": {},
   "source": [
    "- Each row in the data belongs to an individual customer. \n",
    "\n",
    "- The first column is the anonymized customer id. \n",
    "\n",
    "- The second column, “test”, indicates whether the user was part of the treatment group (test =1) or the control group (test=0). \n",
    "\n",
    "- There are three demographic variables, “gender” (male =1, female =0), “income” (this is measured in thousands), and “gamer” (gamer = 1, if user is a gaming enthusiast; 0, otherwise). \n",
    "\n",
    "- The website that a customer visited is in the variable “site”. The variable “impressions” contains the number of advertising impressions that a customer received. \n",
    "\n",
    "- If a customer is in the test group, then all of this customer’s impressions are for the Game-Fun’s ad; if a customer is in the control group, then all of this customer’s impressions are for the irrelevant ad. \n",
    "\n",
    "- Last, the column “purchase” is the dependent variable, and it indicates if the customer purchased anything within 30 days after her/his conversation to the game (30 days is the expected customer lifetime duration for a mobile gamer). If a customer purchased, then purchased =1; 0, otherwise."
   ]
  },
  {
   "cell_type": "markdown",
   "id": "2e467707",
   "metadata": {},
   "source": [
    "Before evaluating the effect of an experiment, it is important to make sure that the experiment was executed correctly. \n",
    "\n",
    "### 1. Check whether the test and control groups are probabilistically equivalent on their observables.\n",
    "\n",
    "#### a) Compare the averages of the income, gender and gamer variables in the test and control groups. You should also report the % difference in the averages. Compute its statistical significance."
   ]
  },
  {
   "cell_type": "code",
   "execution_count": 4,
   "id": "a0b59fbc",
   "metadata": {
    "scrolled": true
   },
   "outputs": [
    {
     "name": "stdout",
     "output_type": "stream",
     "text": [
      "0.7014332800639232\n",
      "0.2985667199360767\n"
     ]
    }
   ],
   "source": [
    "# Creating test and control dfs\n",
    "test = gamefun[gamefun['test'] == 1]\n",
    "control = gamefun[gamefun['test'] == 0]\n",
    "\n",
    "print(len(test)/len(gamefun))\n",
    "print(len(control)/len(gamefun))"
   ]
  },
  {
   "cell_type": "code",
   "execution_count": 5,
   "id": "25a30d8b",
   "metadata": {},
   "outputs": [
    {
     "name": "stdout",
     "output_type": "stream",
     "text": [
      "AVG INCOME TEST: 54.94\n",
      "AVG INCOME CONTROL: 55.17\n",
      "% DIF: -0.004\n"
     ]
    }
   ],
   "source": [
    "# Compare income\n",
    "avg_income_test = round(test['income'].mean(),2)\n",
    "avg_income_control = round(control['income'].mean(),2)\n",
    "dif_income_test_control = round(((avg_income_test-avg_income_control)/avg_income_control),3)\n",
    "\n",
    "print(f'AVG INCOME TEST: {avg_income_test}')\n",
    "print(f'AVG INCOME CONTROL: {avg_income_control}')\n",
    "print(f'% DIF: {dif_income_test_control}')"
   ]
  },
  {
   "cell_type": "code",
   "execution_count": 20,
   "id": "5a797562",
   "metadata": {},
   "outputs": [
    {
     "data": {
      "image/png": "[encoded data removed]",
      "text/plain": [
       "<Figure size 432x288 with 1 Axes>"
      ]
     },
     "metadata": {
      "needs_background": "light"
     },
     "output_type": "display_data"
    }
   ],
   "source": [
    "# Boxplots\n",
    "ax = gamefun.boxplot(by = 'test', column = 'income')\n",
    "ax.set_xlabel(\"\")\n",
    "ax.set_ylabel('income')\n",
    "plt.suptitle(\"\")\n",
    "\n",
    "plt.tight_layout()\n",
    "plt.show()"
   ]
  },
  {
   "cell_type": "markdown",
   "id": "90607237",
   "metadata": {},
   "source": [
    "The results seems to be similar. To be sure we will conduct test.\n",
    "\n",
    "- Objective: test if the mean of the income in test group is different from the control group\n",
    "\n",
    "- Significance level: 0.05\n",
    "\n",
    "- Test Statistic: T-test\n",
    "\n",
    "- H0: incomes are equal\n",
    "\n",
    "- H1: incomes are not equal"
   ]
  },
  {
   "cell_type": "code",
   "execution_count": 21,
   "id": "3cfdc4cb",
   "metadata": {},
   "outputs": [
    {
     "name": "stdout",
     "output_type": "stream",
     "text": [
      "p-value: 0.1284\n"
     ]
    }
   ],
   "source": [
    "# T-test\n",
    "tstat, pvalue, df = sm.stats.ttest_ind(\n",
    "    gamefun[gamefun['test'] == 0].income, \n",
    "    gamefun[gamefun['test'] == 1].income,\n",
    "    alternative='two-sided')\n",
    "\n",
    "print(f'p-value: {pvalue:.4f}')"
   ]
  },
  {
   "cell_type": "markdown",
   "id": "fad03b2c",
   "metadata": {},
   "source": [
    "Since p-value is greater than the significance level, we fail to reject the null hypothesis. We don't have enough information to say the incomes are different.\n",
    "\n",
    "Next we will test the gender proportion"
   ]
  },
  {
   "cell_type": "code",
   "execution_count": 62,
   "id": "fec1434a",
   "metadata": {},
   "outputs": [
    {
     "name": "stdout",
     "output_type": "stream",
     "text": [
      "TEST MALE PROP: 0.6473\n",
      "CONTROL MALE PROP: 0.6479\n"
     ]
    }
   ],
   "source": [
    "# Compare Gender Proportion\n",
    "test_m_num = test[test['gender'] == 1]['gender'].value_counts()\n",
    "test_f_num = test[test['gender'] == 0]['gender'].value_counts()\n",
    "test_m_prop = round(test_m_num[1]/(test_m_num[1]+test_f_num[0]),4)\n",
    "\n",
    "control_m_num = control[control['gender'] == 1]['gender'].value_counts()\n",
    "control_f_num = control[control['gender'] == 0]['gender'].value_counts()\n",
    "control_m_prop = round(control_m_num[1]/(control_m_num[1]+control_f_num[0]),4)\n",
    "\n",
    "print(f'TEST MALE PROP: {test_m_prop}')\n",
    "print(f'CONTROL MALE PROP: {control_m_prop}')"
   ]
  },
  {
   "cell_type": "markdown",
   "id": "1bcfb521",
   "metadata": {},
   "source": [
    "The proportion male/female is extremely close between the groups. We can conduct a prop test to be sure\n",
    "\n",
    "- Objective: test if the proportion male/female in the test group is the same as in the control group\n",
    "\n",
    "- Significance level: 0.05\n",
    "\n",
    "- Test Statistic: Chi-2 contigency\n",
    "\n",
    "- H0: proportion is equal\n",
    "\n",
    "- H1: proportion is not equal"
   ]
  },
  {
   "cell_type": "code",
   "execution_count": 84,
   "id": "ece2b50b",
   "metadata": {},
   "outputs": [
    {
     "name": "stdout",
     "output_type": "stream",
     "text": [
      "1    18183\n",
      "Name: gender, dtype: int64\n",
      "0    9908\n",
      "Name: gender, dtype: int64\n",
      "1    7747\n",
      "Name: gender, dtype: int64\n",
      "0    4210\n",
      "Name: gender, dtype: int64\n"
     ]
    }
   ],
   "source": [
    "print(test_m_num)\n",
    "print(test_f_num)\n",
    "print(control_m_num)\n",
    "print(control_f_num)"
   ]
  },
  {
   "cell_type": "code",
   "execution_count": 86,
   "id": "562d2c76",
   "metadata": {},
   "outputs": [
    {
     "data": {
      "text/plain": [
       "array([[18183,  9908],\n",
       "       [ 7747,  4210]])"
      ]
     },
     "execution_count": 86,
     "metadata": {},
     "output_type": "execute_result"
    }
   ],
   "source": [
    "prop_array = np.array([[18183, 9908], [7747, 4210]])\n",
    "prop_array"
   ]
  },
  {
   "cell_type": "code",
   "execution_count": 98,
   "id": "ef815a13",
   "metadata": {
    "scrolled": true
   },
   "outputs": [
    {
     "name": "stdout",
     "output_type": "stream",
     "text": [
      "p-value for chi2 test: 0.4575\n"
     ]
    }
   ],
   "source": [
    "chi2, p_value, df, _ = stats.chi2_contingency(prop_array)\n",
    "\n",
    "print(f'p-value for chi2 test: {p_value / 2:.4f}')"
   ]
  },
  {
   "cell_type": "markdown",
   "id": "fb7dae42",
   "metadata": {},
   "source": [
    "Since p-value is greater than the significance level, we fail to reject the null hypothesis. We don't have enough information to say the proportions are different.\n",
    "\n",
    "Next we will test the gamer proportion"
   ]
  },
  {
   "cell_type": "code",
   "execution_count": 93,
   "id": "109d5149",
   "metadata": {},
   "outputs": [
    {
     "name": "stdout",
     "output_type": "stream",
     "text": [
      "TEST GAMER PROP: 0.6013\n",
      "CONTROL GAMER PROP: 0.6018\n"
     ]
    }
   ],
   "source": [
    "# Compare Gamer Proportion\n",
    "test_gamer_num = test[test['gamer'] == 1]['gamer'].value_counts()\n",
    "test_ng_num = test[test['gamer'] == 0]['gamer'].value_counts()\n",
    "test_gamer_prop = round(test_gamer_num[1]/(test_gamer_num[1]+test_ng_num[0]),4)\n",
    "\n",
    "control_gamer_num = control[control['gamer'] == 1]['gamer'].value_counts()\n",
    "control_ng_num = control[control['gamer'] == 0]['gamer'].value_counts()\n",
    "control_gamer_prop = round(control_gamer_num[1]/(control_gamer_num[1]+control_ng_num[0]),4)\n",
    "\n",
    "print(f'TEST GAMER PROP: {test_gamer_prop}')\n",
    "print(f'CONTROL GAMER PROP: {control_gamer_prop}')"
   ]
  },
  {
   "cell_type": "markdown",
   "id": "00e3f42f",
   "metadata": {},
   "source": [
    "The proportion male/female is extremely close between the groups. We can conduct a prop test to be sure\n",
    "\n",
    "- Objective: test if the proportion gamer/not gamer in the test group is the same as in the control group\n",
    "\n",
    "- Significance level: 0.05\n",
    "\n",
    "- Test Statistic: Chi-2 contigency table\n",
    "\n",
    "- H0: proportion is equal\n",
    "\n",
    "- H1: proportion is not equal"
   ]
  },
  {
   "cell_type": "code",
   "execution_count": 94,
   "id": "bea009fe",
   "metadata": {},
   "outputs": [
    {
     "name": "stdout",
     "output_type": "stream",
     "text": [
      "1    16892\n",
      "Name: gamer, dtype: int64\n",
      "0    11199\n",
      "Name: gamer, dtype: int64\n",
      "1    7196\n",
      "Name: gamer, dtype: int64\n",
      "0    4761\n",
      "Name: gamer, dtype: int64\n"
     ]
    }
   ],
   "source": [
    "print(test_gamer_num)\n",
    "print(test_ng_num)\n",
    "print(control_gamer_num)\n",
    "print(control_ng_num)"
   ]
  },
  {
   "cell_type": "code",
   "execution_count": 99,
   "id": "837a3a9e",
   "metadata": {},
   "outputs": [
    {
     "name": "stdout",
     "output_type": "stream",
     "text": [
      "p-value for chi2 test: 0.4678\n"
     ]
    }
   ],
   "source": [
    "prop_g_array = np.array([[16892, 11199], [7196, 4761]])\n",
    "\n",
    "chi2, p_value, df, _ = stats.chi2_contingency(prop_g_array)\n",
    "\n",
    "print(f'p-value for chi2 test: {p_value / 2:.4f}')"
   ]
  },
  {
   "cell_type": "markdown",
   "id": "31bbdbb5",
   "metadata": {},
   "source": [
    "Since p-value is greater than the significance level, we fail to reject the null hypothesis. We don't have enough information to say the proportions are different."
   ]
  },
  {
   "cell_type": "markdown",
   "id": "07f68dda",
   "metadata": {},
   "source": [
    "#### b. Briefly comment on what these metrics tell you about probabilistic equivalence for this experiment.\n",
    "\n",
    "We have compared the averages of the income, gender, and gamer variables among the test and control groups. Since we didn't find any statistically significant difference, it's a sign that the experiment was conducted with probabilistic equivalent groups."
   ]
  },
  {
   "cell_type": "markdown",
   "id": "ba2dc3f8",
   "metadata": {},
   "source": [
    "#### c. If you had run this type of analysis BEFORE executing an experiment and found a large difference between test and control groups, what you should do?\n",
    "\n",
    "Randomization creates probabilistic equivalence. So, if we found a large difference between test and control groups, we should separate the groups again, making sure the randomization was properly conducted."
   ]
  },
  {
   "cell_type": "markdown",
   "id": "f17263da",
   "metadata": {},
   "source": [
    "#### d. If you had millions of consumers, your “classic” statistical significance tests would not work (this is because the number of samples is used to compute those classic statistical tests). Do some research online and propose what significance test would you do in case you had “big data”?\n",
    "\n",
    "Statistical tests were developed to handle samples, not populations. When we increase the sample size, the power of the test also increases. That means the test identifies smaller changes as statistically significant, even when those changes are practically insignificant. An alternative is to randomly collect subsamples from the groups and then use a t-test to compare the difference between the subsample values."
   ]
  },
  {
   "cell_type": "markdown",
   "id": "830adf57",
   "metadata": {},
   "source": [
    "### 2. Evaluate the average purchase rates in the test and control for the following groups. For each comparison, report the average purchase rate for the test, average purchase rate for the control and the absolute difference (not the % difference) between the test and control.\n",
    "\n",
    "#### a. Comparison 1: All customers \n"
   ]
  },
  {
   "cell_type": "code",
   "execution_count": 130,
   "id": "d8f52fa9",
   "metadata": {},
   "outputs": [],
   "source": [
    "# Purchase rate test\n",
    "pur_test = len(test[test['purchase'] == 1])\n",
    "total_test = len(test)\n",
    "pur_rate_test = pur_test/total_test\n",
    "\n",
    "# Purchase rate control\n",
    "pur_control = len(control[control['purchase'] == 1])\n",
    "total_control = len(control)\n",
    "pur_rate_control = pur_control/total_control"
   ]
  },
  {
   "cell_type": "code",
   "execution_count": 129,
   "id": "ebb9c7a2",
   "metadata": {},
   "outputs": [
    {
     "data": {
      "text/html": [
       "<div>\n",
       "<style scoped>\n",
       "    .dataframe tbody tr th:only-of-type {\n",
       "        vertical-align: middle;\n",
       "    }\n",
       "\n",
       "    .dataframe tbody tr th {\n",
       "        vertical-align: top;\n",
       "    }\n",
       "\n",
       "    .dataframe thead th {\n",
       "        text-align: right;\n",
       "    }\n",
       "</style>\n",
       "<table border=\"1\" class=\"dataframe\">\n",
       "  <thead>\n",
       "    <tr style=\"text-align: right;\">\n",
       "      <th></th>\n",
       "      <th>Group</th>\n",
       "      <th>PurchaseRate</th>\n",
       "    </tr>\n",
       "  </thead>\n",
       "  <tbody>\n",
       "    <tr>\n",
       "      <th>0</th>\n",
       "      <td>Test</td>\n",
       "      <td>0.0768</td>\n",
       "    </tr>\n",
       "    <tr>\n",
       "      <th>1</th>\n",
       "      <td>Control</td>\n",
       "      <td>0.0362</td>\n",
       "    </tr>\n",
       "    <tr>\n",
       "      <th>2</th>\n",
       "      <td>Difference</td>\n",
       "      <td>0.0406</td>\n",
       "    </tr>\n",
       "  </tbody>\n",
       "</table>\n",
       "</div>"
      ],
      "text/plain": [
       "        Group  PurchaseRate\n",
       "0        Test        0.0768\n",
       "1     Control        0.0362\n",
       "2  Difference        0.0406"
      ]
     },
     "execution_count": 129,
     "metadata": {},
     "output_type": "execute_result"
    }
   ],
   "source": [
    "# Creating dif table\n",
    "row_names = ['Test','Control','Difference']\n",
    "dif_table = pd.DataFrame()\n",
    "dif_table['Group'] = row_names\n",
    "dif_table['PurchaseRate'] = np.array([round(pur_rate_test,4),\n",
    "                                      round(pur_rate_control,4),\n",
    "                                      round(pur_rate_test,4) - round(pur_rate_control,4)])\n",
    "\n",
    "dif_table"
   ]
  },
  {
   "cell_type": "markdown",
   "id": "4621247a",
   "metadata": {},
   "source": [
    "#### b. Comparison 2: Male vs Female customers "
   ]
  },
  {
   "cell_type": "code",
   "execution_count": 170,
   "id": "b0de29a4",
   "metadata": {},
   "outputs": [
    {
     "data": {
      "text/plain": [
       "test  gender  purchase\n",
       "1     1       0           16827\n",
       "      0       0            9106\n",
       "0     1       0            7459\n",
       "      0       0            4065\n",
       "1     1       1            1356\n",
       "      0       1             802\n",
       "0     1       1             288\n",
       "      0       1             145\n",
       "dtype: int64"
      ]
     },
     "execution_count": 170,
     "metadata": {},
     "output_type": "execute_result"
    }
   ],
   "source": [
    "gamefun[['test','gender','purchase']].value_counts()"
   ]
  },
  {
   "cell_type": "code",
   "execution_count": 175,
   "id": "f00f630f",
   "metadata": {},
   "outputs": [
    {
     "name": "stdout",
     "output_type": "stream",
     "text": [
      "0.07457515261508002\n",
      "0.08094469115865967\n",
      "0.037175680908738865\n",
      "0.0344418052256532\n"
     ]
    },
    {
     "data": {
      "text/html": [
       "<div>\n",
       "<style scoped>\n",
       "    .dataframe tbody tr th:only-of-type {\n",
       "        vertical-align: middle;\n",
       "    }\n",
       "\n",
       "    .dataframe tbody tr th {\n",
       "        vertical-align: top;\n",
       "    }\n",
       "\n",
       "    .dataframe thead th {\n",
       "        text-align: right;\n",
       "    }\n",
       "</style>\n",
       "<table border=\"1\" class=\"dataframe\">\n",
       "  <thead>\n",
       "    <tr style=\"text-align: right;\">\n",
       "      <th></th>\n",
       "      <th>Group</th>\n",
       "      <th>PurchaseRate</th>\n",
       "      <th>PurchaseRateMale</th>\n",
       "      <th>PurchaseRateFemale</th>\n",
       "    </tr>\n",
       "  </thead>\n",
       "  <tbody>\n",
       "    <tr>\n",
       "      <th>0</th>\n",
       "      <td>Test</td>\n",
       "      <td>0.0768</td>\n",
       "      <td>0.0746</td>\n",
       "      <td>0.0809</td>\n",
       "    </tr>\n",
       "    <tr>\n",
       "      <th>1</th>\n",
       "      <td>Control</td>\n",
       "      <td>0.0362</td>\n",
       "      <td>0.0372</td>\n",
       "      <td>0.0344</td>\n",
       "    </tr>\n",
       "    <tr>\n",
       "      <th>2</th>\n",
       "      <td>Difference</td>\n",
       "      <td>0.0406</td>\n",
       "      <td>0.0374</td>\n",
       "      <td>0.0465</td>\n",
       "    </tr>\n",
       "  </tbody>\n",
       "</table>\n",
       "</div>"
      ],
      "text/plain": [
       "        Group  PurchaseRate  PurchaseRateMale  PurchaseRateFemale\n",
       "0        Test        0.0768            0.0746              0.0809\n",
       "1     Control        0.0362            0.0372              0.0344\n",
       "2  Difference        0.0406            0.0374              0.0465"
      ]
     },
     "execution_count": 175,
     "metadata": {},
     "output_type": "execute_result"
    }
   ],
   "source": [
    "# Purchase rate male test\n",
    "test_male_purch = 1356\n",
    "test_male_total = 1356 + 16827\n",
    "test_male_rate = test_male_purch/test_male_total\n",
    "print(test_male_rate)\n",
    "\n",
    "# Purchase rate female test\n",
    "test_female_purch = 802\n",
    "test_female_total = 802 + 9106\n",
    "test_female_rate = test_female_purch/test_female_total\n",
    "print(test_female_rate)\n",
    "\n",
    "# Purchase rate male control\n",
    "control_male_purch = 288\n",
    "control_male_total = 288 + 7459\n",
    "control_male_rate = control_male_purch/control_male_total\n",
    "print(control_male_rate)\n",
    "\n",
    "# Purchase rate female control\n",
    "control_female_purch = 145\n",
    "control_female_total = 145 + 4065\n",
    "control_female_rate = control_female_purch/control_female_total\n",
    "print(control_female_rate)\n",
    "\n",
    "dif_table['PurchaseRateMale'] = np.array([round(test_male_rate,4),\n",
    "                                          round(control_male_rate,4),\n",
    "                                          round(test_male_rate,4) - round(control_male_rate,4)])\n",
    "\n",
    "dif_table['PurchaseRateFemale'] = np.array([round(test_female_rate,4),\n",
    "                                          round(control_female_rate,4),\n",
    "                                          round(test_female_rate,4) - round(control_female_rate,4)])\n",
    "dif_table"
   ]
  },
  {
   "cell_type": "markdown",
   "id": "e6d429c2",
   "metadata": {},
   "source": [
    "#### c. Comparison 3: Gamers vs Non-Gamers Customers"
   ]
  },
  {
   "cell_type": "code",
   "execution_count": 186,
   "id": "3d0a20fd",
   "metadata": {},
   "outputs": [
    {
     "data": {
      "text/plain": [
       "test  gamer  purchase\n",
       "1     1      0           15127\n",
       "      0      0           10806\n",
       "0     1      0            6941\n",
       "      0      0            4583\n",
       "1     1      1            1765\n",
       "      0      1             393\n",
       "0     1      1             255\n",
       "      0      1             178\n",
       "dtype: int64"
      ]
     },
     "execution_count": 186,
     "metadata": {},
     "output_type": "execute_result"
    }
   ],
   "source": [
    "gamefun[['test','gamer','purchase']].value_counts()"
   ]
  },
  {
   "cell_type": "code",
   "execution_count": 191,
   "id": "56907684",
   "metadata": {},
   "outputs": [
    {
     "name": "stdout",
     "output_type": "stream",
     "text": [
      "0.1044873312810798\n",
      "0.0350924189659791\n",
      "0.03543635352973874\n",
      "0.037387103549674436\n"
     ]
    },
    {
     "data": {
      "text/html": [
       "<div>\n",
       "<style scoped>\n",
       "    .dataframe tbody tr th:only-of-type {\n",
       "        vertical-align: middle;\n",
       "    }\n",
       "\n",
       "    .dataframe tbody tr th {\n",
       "        vertical-align: top;\n",
       "    }\n",
       "\n",
       "    .dataframe thead th {\n",
       "        text-align: right;\n",
       "    }\n",
       "</style>\n",
       "<table border=\"1\" class=\"dataframe\">\n",
       "  <thead>\n",
       "    <tr style=\"text-align: right;\">\n",
       "      <th></th>\n",
       "      <th>Group</th>\n",
       "      <th>PurchaseRate</th>\n",
       "      <th>PurchaseRateMale</th>\n",
       "      <th>PurchaseRateFemale</th>\n",
       "      <th>PurchaseRateGamer</th>\n",
       "      <th>PurchaseRateNotGamer</th>\n",
       "    </tr>\n",
       "  </thead>\n",
       "  <tbody>\n",
       "    <tr>\n",
       "      <th>0</th>\n",
       "      <td>Test</td>\n",
       "      <td>0.0768</td>\n",
       "      <td>0.0746</td>\n",
       "      <td>0.0809</td>\n",
       "      <td>0.1045</td>\n",
       "      <td>0.0351</td>\n",
       "    </tr>\n",
       "    <tr>\n",
       "      <th>1</th>\n",
       "      <td>Control</td>\n",
       "      <td>0.0362</td>\n",
       "      <td>0.0372</td>\n",
       "      <td>0.0344</td>\n",
       "      <td>0.0354</td>\n",
       "      <td>0.0374</td>\n",
       "    </tr>\n",
       "    <tr>\n",
       "      <th>2</th>\n",
       "      <td>Difference</td>\n",
       "      <td>0.0406</td>\n",
       "      <td>0.0374</td>\n",
       "      <td>0.0465</td>\n",
       "      <td>0.0691</td>\n",
       "      <td>-0.0023</td>\n",
       "    </tr>\n",
       "  </tbody>\n",
       "</table>\n",
       "</div>"
      ],
      "text/plain": [
       "        Group  PurchaseRate  PurchaseRateMale  PurchaseRateFemale  \\\n",
       "0        Test        0.0768            0.0746              0.0809   \n",
       "1     Control        0.0362            0.0372              0.0344   \n",
       "2  Difference        0.0406            0.0374              0.0465   \n",
       "\n",
       "   PurchaseRateGamer  PurchaseRateNotGamer  \n",
       "0             0.1045                0.0351  \n",
       "1             0.0354                0.0374  \n",
       "2             0.0691               -0.0023  "
      ]
     },
     "execution_count": 191,
     "metadata": {},
     "output_type": "execute_result"
    }
   ],
   "source": [
    "# Purchase rate gamer test\n",
    "test_gamer_purch = 1765\n",
    "test_gamer_total = 1765 + 15127\n",
    "test_gamer_rate = test_gamer_purch/test_gamer_total\n",
    "print(test_gamer_rate)\n",
    "\n",
    "# Purchase rate not gamer test\n",
    "test_ng_purch = 393\n",
    "test_ng_total = 393 + 10806\n",
    "test_ng_rate = test_ng_purch/test_ng_total\n",
    "print(test_ng_rate)\n",
    "\n",
    "# Purchase rate gamer control\n",
    "control_gamer_purch = 255\n",
    "control_gamer_total = 255 + 6941\n",
    "control_gamer_rate = control_gamer_purch/control_gamer_total\n",
    "print(control_gamer_rate)\n",
    "\n",
    "# Purchase rate not gamer control\n",
    "control_ng_purch = 178\n",
    "control_ng_total = 178 + 4583\n",
    "control_ng_rate = control_ng_purch/control_ng_total\n",
    "print(control_ng_rate)\n",
    "\n",
    "dif_table['PurchaseRateGamer'] = np.array([round(test_gamer_rate,4),\n",
    "                                          round(control_gamer_rate,4),\n",
    "                                          round(test_gamer_rate,4) - round(control_gamer_rate,4)])\n",
    "\n",
    "dif_table['PurchaseRateNotGamer'] = np.array([round(test_ng_rate,4),\n",
    "                                          round(control_ng_rate,4),\n",
    "                                          round(test_ng_rate,4) - round(control_ng_rate,4)])\n",
    "\n",
    "dif_table"
   ]
  },
  {
   "cell_type": "markdown",
   "id": "18a85e08",
   "metadata": {},
   "source": [
    "#### d. Comparison 4: Female Gamers vs Male Gamers"
   ]
  },
  {
   "cell_type": "code",
   "execution_count": 193,
   "id": "c17fdea3",
   "metadata": {},
   "outputs": [
    {
     "data": {
      "text/plain": [
       "test  gamer  gender  purchase\n",
       "1     1      1       0           9792\n",
       "      0      1       0           7035\n",
       "      1      0       0           5335\n",
       "0     1      1       0           4494\n",
       "1     0      0       0           3771\n",
       "0     0      1       0           2965\n",
       "      1      0       0           2447\n",
       "      0      0       0           1618\n",
       "1     1      1       1           1105\n",
       "             0       1            660\n",
       "      0      1       1            251\n",
       "0     1      1       1            174\n",
       "1     0      0       1            142\n",
       "0     0      1       1            114\n",
       "      1      0       1             81\n",
       "      0      0       1             64\n",
       "dtype: int64"
      ]
     },
     "execution_count": 193,
     "metadata": {},
     "output_type": "execute_result"
    }
   ],
   "source": [
    "gamefun[['test','gamer','gender','purchase']].value_counts()"
   ]
  },
  {
   "cell_type": "code",
   "execution_count": 197,
   "id": "004973bc",
   "metadata": {
    "scrolled": true
   },
   "outputs": [
    {
     "name": "stdout",
     "output_type": "stream",
     "text": [
      "0.10140405616224649\n",
      "0.11009174311926606\n",
      "0.037275064267352186\n",
      "0.032041139240506326\n"
     ]
    },
    {
     "data": {
      "text/html": [
       "<div>\n",
       "<style scoped>\n",
       "    .dataframe tbody tr th:only-of-type {\n",
       "        vertical-align: middle;\n",
       "    }\n",
       "\n",
       "    .dataframe tbody tr th {\n",
       "        vertical-align: top;\n",
       "    }\n",
       "\n",
       "    .dataframe thead th {\n",
       "        text-align: right;\n",
       "    }\n",
       "</style>\n",
       "<table border=\"1\" class=\"dataframe\">\n",
       "  <thead>\n",
       "    <tr style=\"text-align: right;\">\n",
       "      <th></th>\n",
       "      <th>Group</th>\n",
       "      <th>PurchaseRate</th>\n",
       "      <th>PurchaseRateMale</th>\n",
       "      <th>PurchaseRateFemale</th>\n",
       "      <th>PurchaseRateGamer</th>\n",
       "      <th>PurchaseRateNotGamer</th>\n",
       "      <th>PurchaseRateMaleGamer</th>\n",
       "      <th>PurchaseRateFemaleGamer</th>\n",
       "    </tr>\n",
       "  </thead>\n",
       "  <tbody>\n",
       "    <tr>\n",
       "      <th>0</th>\n",
       "      <td>Test</td>\n",
       "      <td>0.0768</td>\n",
       "      <td>0.0746</td>\n",
       "      <td>0.0809</td>\n",
       "      <td>0.1045</td>\n",
       "      <td>0.0351</td>\n",
       "      <td>0.1014</td>\n",
       "      <td>0.1101</td>\n",
       "    </tr>\n",
       "    <tr>\n",
       "      <th>1</th>\n",
       "      <td>Control</td>\n",
       "      <td>0.0362</td>\n",
       "      <td>0.0372</td>\n",
       "      <td>0.0344</td>\n",
       "      <td>0.0354</td>\n",
       "      <td>0.0374</td>\n",
       "      <td>0.0373</td>\n",
       "      <td>0.0320</td>\n",
       "    </tr>\n",
       "    <tr>\n",
       "      <th>2</th>\n",
       "      <td>Difference</td>\n",
       "      <td>0.0406</td>\n",
       "      <td>0.0374</td>\n",
       "      <td>0.0465</td>\n",
       "      <td>0.0691</td>\n",
       "      <td>-0.0023</td>\n",
       "      <td>0.0641</td>\n",
       "      <td>0.0781</td>\n",
       "    </tr>\n",
       "  </tbody>\n",
       "</table>\n",
       "</div>"
      ],
      "text/plain": [
       "        Group  PurchaseRate  PurchaseRateMale  PurchaseRateFemale  \\\n",
       "0        Test        0.0768            0.0746              0.0809   \n",
       "1     Control        0.0362            0.0372              0.0344   \n",
       "2  Difference        0.0406            0.0374              0.0465   \n",
       "\n",
       "   PurchaseRateGamer  PurchaseRateNotGamer  PurchaseRateMaleGamer  \\\n",
       "0             0.1045                0.0351                 0.1014   \n",
       "1             0.0354                0.0374                 0.0373   \n",
       "2             0.0691               -0.0023                 0.0641   \n",
       "\n",
       "   PurchaseRateFemaleGamer  \n",
       "0                   0.1101  \n",
       "1                   0.0320  \n",
       "2                   0.0781  "
      ]
     },
     "execution_count": 197,
     "metadata": {},
     "output_type": "execute_result"
    }
   ],
   "source": [
    "# Purchase rate male gamer test\n",
    "test_mg_purch = 1105\n",
    "test_mg_total = 1105 + 9792\n",
    "test_mg_rate = test_mg_purch/test_mg_total\n",
    "print(test_mg_rate)\n",
    "\n",
    "# Purchase rate female gamer test\n",
    "test_fg_purch = 660\n",
    "test_fg_total = 660 + 5335\n",
    "test_fg_rate = test_fg_purch/test_fg_total\n",
    "print(test_fg_rate)\n",
    "\n",
    "# Purchase rate male gamer control\n",
    "control_mg_purch = 174\n",
    "control_mg_total = 174 + 4494\n",
    "control_mg_rate = control_mg_purch/control_mg_total\n",
    "print(control_mg_rate)\n",
    "\n",
    "# Purchase rate female gamer control\n",
    "control_fg_purch = 81\n",
    "control_fg_total = 81 + 2447\n",
    "control_fg_rate = control_fg_purch/control_fg_total\n",
    "print(control_fg_rate)\n",
    "\n",
    "dif_table['PurchaseRateMaleGamer'] = np.array([round(test_mg_rate,4),\n",
    "                                          round(control_mg_rate,4),\n",
    "                                          round(test_mg_rate,4) - round(control_mg_rate,4)])\n",
    "\n",
    "dif_table['PurchaseRateFemaleGamer'] = np.array([round(test_fg_rate,4),\n",
    "                                          round(control_fg_rate,4),\n",
    "                                          round(test_fg_rate,4) - round(control_fg_rate,4)])\n",
    "\n",
    "dif_table"
   ]
  },
  {
   "cell_type": "markdown",
   "id": "580557bd",
   "metadata": {},
   "source": [
    "### 3. Assess the expected revenue in the test vs. control for the following comparisons:\n",
    "\n",
    "#### a. Comparison 1: All customers"
   ]
  },
  {
   "cell_type": "code",
   "execution_count": 217,
   "id": "d73243ad",
   "metadata": {},
   "outputs": [
    {
     "name": "stdout",
     "output_type": "stream",
     "text": [
      "Expected Revenue TEST: 26975.0\n",
      "Expected Revenue CONTROL: 16237.5\n",
      "Exp. Rev Test - Control: 10737.5\n"
     ]
    }
   ],
   "source": [
    "# Expected revenue for test group is $12.5 times the number of purchases\n",
    "er_test = pur_test*12.5\n",
    "\n",
    "# Expected revenue for test group is $37.5 times the number of purchases\n",
    "er_control = pur_control*37.5\n",
    "dif_test_control = er_test - er_control\n",
    "print(f'Expected Revenue TEST: {er_test}')\n",
    "print(f'Expected Revenue CONTROL: {er_control}')\n",
    "print(f'Exp. Rev Test - Control: {dif_test_control}')"
   ]
  },
  {
   "cell_type": "markdown",
   "id": "13b58149",
   "metadata": {},
   "source": [
    "#### b. Comparison 4: Female Gamers vs Male Gamers"
   ]
  },
  {
   "cell_type": "code",
   "execution_count": 226,
   "id": "74f5b7e9",
   "metadata": {},
   "outputs": [
    {
     "name": "stdout",
     "output_type": "stream",
     "text": [
      "Expected Revenue MALE GAMER TEST: 13812.5\n",
      "Expected Revenue MALE GAMER CONTROL: 6525.0\n",
      "Exp. Rev. MALE GAMER Test - Control: 7287.5\n",
      "\n",
      "Expected Revenue FEMALE GAMER TEST: 8250.0\n",
      "Expected Revenue FEMALE GAMER CONTROL: 3037.5\n",
      "Exp. Rev. FEMALE GAMER Test - Control: 5212.5\n"
     ]
    }
   ],
   "source": [
    "er_mg_test = test_mg_purch * 12.5\n",
    "er_mg_control = control_mg_purch * 37.5\n",
    "dif_mg_test_control = er_mg_test - er_mg_control\n",
    "\n",
    "er_fg_test = test_fg_purch * 12.5\n",
    "er_fg_control = control_fg_purch * 37.5\n",
    "dif_fg_test_control = er_fg_test - er_fg_control\n",
    "\n",
    "print(f'Expected Revenue MALE GAMER TEST: {er_mg_test}')\n",
    "print(f'Expected Revenue MALE GAMER CONTROL: {er_mg_control}')\n",
    "print(f'Exp. Rev. MALE GAMER Test - Control: {dif_mg_test_control}')\n",
    "print(\"\")\n",
    "print(f'Expected Revenue FEMALE GAMER TEST: {er_fg_test}')\n",
    "print(f'Expected Revenue FEMALE GAMER CONTROL: {er_fg_control}')\n",
    "print(f'Exp. Rev. FEMALE GAMER Test - Control: {dif_fg_test_control}')"
   ]
  },
  {
   "cell_type": "markdown",
   "id": "b695e210",
   "metadata": {},
   "source": [
    "### 4. Based on your previous answers, provide a brief recommendation to your management team summarizing the expected financial outcome for Game-Fun.\n",
    "\n",
    "#### a. Should Game-Fun run this promotion again in the future? If no, explain why. If yes, should Game-Fun offer it to all customers or a targeted segment. "
   ]
  },
  {
   "cell_type": "markdown",
   "id": "db8df094",
   "metadata": {},
   "source": [
    "The experiment shows that running the promotion is lucrative for Game-Fun. \n",
    "\n",
    "The expected revenue for the test group is \\\\$26,975, while the expected revenue for the control group is just \\\\$16,237.\n",
    "\n",
    "The experiment is lucrative when aggregating for female and male gamers as well. Which is an indicative that game-fun should offer it to all customers"
   ]
  }
 ],
 "metadata": {
  "kernelspec": {
   "display_name": "Python 3 (ipykernel)",
   "language": "python",
   "name": "python3"
  },
  "language_info": {
   "codemirror_mode": {
    "name": "ipython",
    "version": 3
   },
   "file_extension": ".py",
   "mimetype": "text/x-python",
   "name": "python",
   "nbconvert_exporter": "python",
   "pygments_lexer": "ipython3",
   "version": "3.9.7"
  }
 },
 "nbformat": 4,
 "nbformat_minor": 5
}
